{
 "cells": [
  {
   "cell_type": "code",
   "execution_count": 1,
   "id": "c2c01b69",
   "metadata": {},
   "outputs": [
    {
     "data": {
      "text/plain": [
       "False"
      ]
     },
     "execution_count": 1,
     "metadata": {},
     "output_type": "execute_result"
    }
   ],
   "source": [
    "#ex 6.3 - palindrome - long way\n",
    "\n",
    "def first(word):\n",
    "    return word[0]\n",
    "\n",
    "def last(word):\n",
    "    return word[-1]\n",
    "\n",
    "def middle(word):\n",
    "    return word[1:-1]\n",
    "\n",
    "def is_palindrome(word):\n",
    "    word_len=len(word)\n",
    "    if (word_len==1) or (word_len==0):\n",
    "        return True\n",
    "    elif first(word)==last(word):\n",
    "        return is_palindrome(middle(word))\n",
    "    else:\n",
    "        return False\n",
    "    \n",
    "is_palindrome('ahhia')"
   ]
  },
  {
   "cell_type": "code",
   "execution_count": 4,
   "id": "b0a48e56",
   "metadata": {},
   "outputs": [
    {
     "data": {
      "text/plain": [
       "False"
      ]
     },
     "execution_count": 4,
     "metadata": {},
     "output_type": "execute_result"
    }
   ],
   "source": [
    "#ex 6.3 - palindrome - fast way\n",
    "\n",
    "def is_palindrome(word):\n",
    "    return word==word[::-1]\n",
    "\n",
    "is_palindrome('qwertytreowq')"
   ]
  },
  {
   "cell_type": "code",
   "execution_count": 3,
   "id": "dee7480c",
   "metadata": {},
   "outputs": [
    {
     "name": "stdout",
     "output_type": "stream",
     "text": [
      "jolly\n"
     ]
    }
   ],
   "source": [
    "#ex 8.5 \n",
    "\"\"\"\"\n",
    "A Caesar cypher is a weak form of encryption that involves “rotating” each letter by a fixed number of places. To rotate a letter means to shift it through the alphabet, wrapping around to the beginning if necessary, so ’A’ rotated by 3 is ’D’ and ’Z’ rotated by 1 is ’A’.\n",
    "To rotate a word, rotate each letter by the same amount. For example, “cheer” rotated by 7 is “jolly” and “melon” rotated by -10 is “cubed”. In the movie 2001: A Space Odyssey, the ship computer is called HAL, which is IBM rotated by -1.\n",
    "Write a function called    that takes a string and an integer as parameters, and returns a new string that contains the letters from the original string rotated by the given amount.\n",
    "\"\"\"\"\n",
    "\n",
    "def rotate_char(s,a,n):\n",
    "    c=ord(s)-ord(a)\n",
    "    new_ind=(c+n)%26+ord(a)\n",
    "    return chr(new_ind)\n",
    "\n",
    "def rotate_word(word,n):\n",
    "    new_word=''\n",
    "    for s in word:\n",
    "        if s.isupper():\n",
    "            new_s=rotate_char(s,'A',n)\n",
    "        elif s.islower():\n",
    "            new_s=rotate_char(s,'a',n)\n",
    "        else:\n",
    "            new_s=s\n",
    "        new_word=new_word+new_s\n",
    "    return new_word\n",
    "\n",
    "print(rotate_word('cheer', 7))\n"
   ]
  },
  {
   "cell_type": "code",
   "execution_count": 6,
   "id": "8407164d",
   "metadata": {},
   "outputs": [
    {
     "data": {
      "text/plain": [
       "1556"
      ]
     },
     "execution_count": 6,
     "metadata": {},
     "output_type": "execute_result"
    }
   ],
   "source": [
    "#Ex 11.5\n",
    "\"\"\"\n",
    "Two words are “rotate pairs” if you can rotate one of them and get the other\n",
    "Write a program that reads a wordlist and finds all the rotate pairs.\n",
    "\"\"\"\n",
    "def create_word_dict():\n",
    "    fin=open('words.txt')\n",
    "    word_dict={}\n",
    "    for line in fin:\n",
    "        word = line.strip()\n",
    "        word_dict[word]=1\n",
    "    return word_dict\n",
    "\n",
    "def find_rotates(d):\n",
    "    d_rotates={}\n",
    "    for word in d:\n",
    "        if word in d_rotates: continue\n",
    "        i=1\n",
    "        while i<26:\n",
    "            rotated=rotate_word(word,i)\n",
    "            if rotated in d:\n",
    "                d_rotates[word]=rotated\n",
    "                d_rotates[rotated]=word\n",
    "            i+=1\n",
    "    return len(d_rotates)\n",
    "\n",
    "find_rotates(create_word_dict())"
   ]
  }
 ],
 "metadata": {
  "kernelspec": {
   "display_name": "Python 3",
   "language": "python",
   "name": "python3"
  },
  "language_info": {
   "codemirror_mode": {
    "name": "ipython",
    "version": 3
   },
   "file_extension": ".py",
   "mimetype": "text/x-python",
   "name": "python",
   "nbconvert_exporter": "python",
   "pygments_lexer": "ipython3",
   "version": "3.8.8"
  }
 },
 "nbformat": 4,
 "nbformat_minor": 5
}
